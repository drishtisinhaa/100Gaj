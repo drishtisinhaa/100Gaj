{
 "cells": [
  {
   "cell_type": "code",
   "execution_count": 4,
   "id": "181e8aed-3912-4fa3-87e4-1ee8efb23d6f",
   "metadata": {},
   "outputs": [],
   "source": [
    "import numpy as np\n",
    "import pandas as pd\n",
    "import seaborn as sns\n",
    "import matplotlib.pyplot as plt\n",
    "\n",
    "\n",
    "import warnings\n",
    "warnings.filterwarnings('ignore')"
   ]
  },
  {
   "cell_type": "code",
   "execution_count": 6,
   "id": "3ca57e54-fcf1-4b83-be49-a2beecb1e8f3",
   "metadata": {},
   "outputs": [],
   "source": [
    "df=pd.read_csv('real_estate_delhi_ncr_arranged.csv')"
   ]
  },
  {
   "cell_type": "code",
   "execution_count": 8,
   "id": "c61f8ccc-9b81-4466-9027-8725216c8320",
   "metadata": {},
   "outputs": [
    {
     "data": {
      "text/html": [
       "<div>\n",
       "<style scoped>\n",
       "    .dataframe tbody tr th:only-of-type {\n",
       "        vertical-align: middle;\n",
       "    }\n",
       "\n",
       "    .dataframe tbody tr th {\n",
       "        vertical-align: top;\n",
       "    }\n",
       "\n",
       "    .dataframe thead th {\n",
       "        text-align: right;\n",
       "    }\n",
       "</style>\n",
       "<table border=\"1\" class=\"dataframe\">\n",
       "  <thead>\n",
       "    <tr style=\"text-align: right;\">\n",
       "      <th></th>\n",
       "      <th>City</th>\n",
       "      <th>SubLocation</th>\n",
       "      <th>Name</th>\n",
       "      <th>Price</th>\n",
       "      <th>Rate_per_sqft</th>\n",
       "      <th>Bedroom</th>\n",
       "      <th>Status</th>\n",
       "      <th>Transaction</th>\n",
       "      <th>Carpet_area_sqft</th>\n",
       "      <th>Total_area</th>\n",
       "    </tr>\n",
       "  </thead>\n",
       "  <tbody>\n",
       "    <tr>\n",
       "      <th>0</th>\n",
       "      <td>Delhi</td>\n",
       "      <td>AG1 Pocket Vikaspuri</td>\n",
       "      <td>2 BHK Flat for Sale in AG1 Pocket Vikaspuri, V...</td>\n",
       "      <td>12500000</td>\n",
       "      <td>13228.0</td>\n",
       "      <td>2</td>\n",
       "      <td>Ready to Move</td>\n",
       "      <td>New Property</td>\n",
       "      <td>NaN</td>\n",
       "      <td>944.965225</td>\n",
       "    </tr>\n",
       "    <tr>\n",
       "      <th>1</th>\n",
       "      <td>Delhi</td>\n",
       "      <td>Aastha Kunj Apartments</td>\n",
       "      <td>3 BHK Flat for Sale in Aastha Kunj Apartments,...</td>\n",
       "      <td>13000000</td>\n",
       "      <td>7449.0</td>\n",
       "      <td>3</td>\n",
       "      <td>Ready to Move</td>\n",
       "      <td>New Property</td>\n",
       "      <td>2600.0</td>\n",
       "      <td>1745.200698</td>\n",
       "    </tr>\n",
       "    <tr>\n",
       "      <th>2</th>\n",
       "      <td>Delhi</td>\n",
       "      <td>Adarsh Apartment</td>\n",
       "      <td>2 BHK Flat for Sale in Adarsh Apartment, Rohin...</td>\n",
       "      <td>17000000</td>\n",
       "      <td>6222.0</td>\n",
       "      <td>2</td>\n",
       "      <td>Ready to Move</td>\n",
       "      <td>Resale</td>\n",
       "      <td>2620.0</td>\n",
       "      <td>2732.240437</td>\n",
       "    </tr>\n",
       "    <tr>\n",
       "      <th>3</th>\n",
       "      <td>Delhi</td>\n",
       "      <td>Adarsh Nagar Extension</td>\n",
       "      <td>2 BHK Flat for Sale in Adarsh Nagar Extension,...</td>\n",
       "      <td>10500000</td>\n",
       "      <td>11667.0</td>\n",
       "      <td>2</td>\n",
       "      <td>Ready to Move</td>\n",
       "      <td>Resale</td>\n",
       "      <td>525.0</td>\n",
       "      <td>899.974286</td>\n",
       "    </tr>\n",
       "    <tr>\n",
       "      <th>4</th>\n",
       "      <td>Delhi</td>\n",
       "      <td>Aditi Apartment</td>\n",
       "      <td>3 BHK Flat for Sale in Aditi Apartment, Indrap...</td>\n",
       "      <td>17500000</td>\n",
       "      <td>10606.0</td>\n",
       "      <td>3</td>\n",
       "      <td>Ready to Move</td>\n",
       "      <td>Resale</td>\n",
       "      <td>NaN</td>\n",
       "      <td>1650.009429</td>\n",
       "    </tr>\n",
       "    <tr>\n",
       "      <th>...</th>\n",
       "      <td>...</td>\n",
       "      <td>...</td>\n",
       "      <td>...</td>\n",
       "      <td>...</td>\n",
       "      <td>...</td>\n",
       "      <td>...</td>\n",
       "      <td>...</td>\n",
       "      <td>...</td>\n",
       "      <td>...</td>\n",
       "      <td>...</td>\n",
       "    </tr>\n",
       "    <tr>\n",
       "      <th>2340</th>\n",
       "      <td>Faridabad</td>\n",
       "      <td>Tirka Colony</td>\n",
       "      <td>3 BHK House for Sale in Tirka Colony, Mathura ...</td>\n",
       "      <td>4800000</td>\n",
       "      <td>10000.0</td>\n",
       "      <td>3</td>\n",
       "      <td>Ready to Move</td>\n",
       "      <td>Resale</td>\n",
       "      <td>NaN</td>\n",
       "      <td>480.000000</td>\n",
       "    </tr>\n",
       "    <tr>\n",
       "      <th>2341</th>\n",
       "      <td>Faridabad</td>\n",
       "      <td>Urban One</td>\n",
       "      <td>2 BHK Flat for Sale in Urban One, Dayal Bagh C...</td>\n",
       "      <td>3000000</td>\n",
       "      <td>6422.0</td>\n",
       "      <td>2</td>\n",
       "      <td>Ready to Move</td>\n",
       "      <td>Resale</td>\n",
       "      <td>750.0</td>\n",
       "      <td>467.144192</td>\n",
       "    </tr>\n",
       "    <tr>\n",
       "      <th>2342</th>\n",
       "      <td>Faridabad</td>\n",
       "      <td>Woodbury Tower</td>\n",
       "      <td>3 BHK Flat for Sale in Woodbury Tower, Suraj K...</td>\n",
       "      <td>12500000</td>\n",
       "      <td>7645.0</td>\n",
       "      <td>3</td>\n",
       "      <td>Ready to Move</td>\n",
       "      <td>Resale</td>\n",
       "      <td>1150.0</td>\n",
       "      <td>1635.055592</td>\n",
       "    </tr>\n",
       "    <tr>\n",
       "      <th>2343</th>\n",
       "      <td>Faridabad</td>\n",
       "      <td>sai park Apartment sector 87</td>\n",
       "      <td>2 BHK Flat for Sale in sai park Apartment sect...</td>\n",
       "      <td>4600000</td>\n",
       "      <td>4875.0</td>\n",
       "      <td>2</td>\n",
       "      <td>Ready to Move</td>\n",
       "      <td>Resale</td>\n",
       "      <td>NaN</td>\n",
       "      <td>943.589744</td>\n",
       "    </tr>\n",
       "    <tr>\n",
       "      <th>2344</th>\n",
       "      <td>Faridabad</td>\n",
       "      <td>sector 10 HBC Faridabad</td>\n",
       "      <td>3 BHK House for Sale in sector 10 HBC Faridabad</td>\n",
       "      <td>4500000</td>\n",
       "      <td>12500.0</td>\n",
       "      <td>3</td>\n",
       "      <td>Ready to Move</td>\n",
       "      <td>Resale</td>\n",
       "      <td>2150.0</td>\n",
       "      <td>360.000000</td>\n",
       "    </tr>\n",
       "  </tbody>\n",
       "</table>\n",
       "<p>2345 rows × 10 columns</p>\n",
       "</div>"
      ],
      "text/plain": [
       "           City                   SubLocation  \\\n",
       "0         Delhi          AG1 Pocket Vikaspuri   \n",
       "1         Delhi        Aastha Kunj Apartments   \n",
       "2         Delhi              Adarsh Apartment   \n",
       "3         Delhi        Adarsh Nagar Extension   \n",
       "4         Delhi               Aditi Apartment   \n",
       "...         ...                           ...   \n",
       "2340  Faridabad                  Tirka Colony   \n",
       "2341  Faridabad                     Urban One   \n",
       "2342  Faridabad                Woodbury Tower   \n",
       "2343  Faridabad  sai park Apartment sector 87   \n",
       "2344  Faridabad       sector 10 HBC Faridabad   \n",
       "\n",
       "                                                   Name     Price  \\\n",
       "0     2 BHK Flat for Sale in AG1 Pocket Vikaspuri, V...  12500000   \n",
       "1     3 BHK Flat for Sale in Aastha Kunj Apartments,...  13000000   \n",
       "2     2 BHK Flat for Sale in Adarsh Apartment, Rohin...  17000000   \n",
       "3     2 BHK Flat for Sale in Adarsh Nagar Extension,...  10500000   \n",
       "4     3 BHK Flat for Sale in Aditi Apartment, Indrap...  17500000   \n",
       "...                                                 ...       ...   \n",
       "2340  3 BHK House for Sale in Tirka Colony, Mathura ...   4800000   \n",
       "2341  2 BHK Flat for Sale in Urban One, Dayal Bagh C...   3000000   \n",
       "2342  3 BHK Flat for Sale in Woodbury Tower, Suraj K...  12500000   \n",
       "2343  2 BHK Flat for Sale in sai park Apartment sect...   4600000   \n",
       "2344    3 BHK House for Sale in sector 10 HBC Faridabad   4500000   \n",
       "\n",
       "      Rate_per_sqft  Bedroom         Status   Transaction  Carpet_area_sqft  \\\n",
       "0           13228.0        2  Ready to Move  New Property               NaN   \n",
       "1            7449.0        3  Ready to Move  New Property            2600.0   \n",
       "2            6222.0        2  Ready to Move        Resale            2620.0   \n",
       "3           11667.0        2  Ready to Move        Resale             525.0   \n",
       "4           10606.0        3  Ready to Move        Resale               NaN   \n",
       "...             ...      ...            ...           ...               ...   \n",
       "2340        10000.0        3  Ready to Move        Resale               NaN   \n",
       "2341         6422.0        2  Ready to Move        Resale             750.0   \n",
       "2342         7645.0        3  Ready to Move        Resale            1150.0   \n",
       "2343         4875.0        2  Ready to Move        Resale               NaN   \n",
       "2344        12500.0        3  Ready to Move        Resale            2150.0   \n",
       "\n",
       "       Total_area  \n",
       "0      944.965225  \n",
       "1     1745.200698  \n",
       "2     2732.240437  \n",
       "3      899.974286  \n",
       "4     1650.009429  \n",
       "...           ...  \n",
       "2340   480.000000  \n",
       "2341   467.144192  \n",
       "2342  1635.055592  \n",
       "2343   943.589744  \n",
       "2344   360.000000  \n",
       "\n",
       "[2345 rows x 10 columns]"
      ]
     },
     "execution_count": 8,
     "metadata": {},
     "output_type": "execute_result"
    }
   ],
   "source": [
    "df"
   ]
  },
  {
   "cell_type": "code",
   "execution_count": 10,
   "id": "d14eeb1c-17e3-4100-8f20-602ff8ce2311",
   "metadata": {},
   "outputs": [
    {
     "data": {
      "text/plain": [
       "0"
      ]
     },
     "execution_count": 10,
     "metadata": {},
     "output_type": "execute_result"
    }
   ],
   "source": [
    "df.duplicated().sum()"
   ]
  },
  {
   "cell_type": "code",
   "execution_count": 12,
   "id": "cac5eb40-baf2-40b3-9bf7-148699de0fc6",
   "metadata": {},
   "outputs": [
    {
     "data": {
      "text/plain": [
       "1452"
      ]
     },
     "execution_count": 12,
     "metadata": {},
     "output_type": "execute_result"
    }
   ],
   "source": [
    "df.isnull().sum().sum()"
   ]
  },
  {
   "cell_type": "code",
   "execution_count": 14,
   "id": "14343a9e-f4bf-4426-8c92-223dd730b8a6",
   "metadata": {},
   "outputs": [
    {
     "data": {
      "text/plain": [
       "City                   0\n",
       "SubLocation            0\n",
       "Name                   0\n",
       "Price                  0\n",
       "Rate_per_sqft         88\n",
       "Bedroom                0\n",
       "Status               128\n",
       "Transaction            1\n",
       "Carpet_area_sqft    1147\n",
       "Total_area            88\n",
       "dtype: int64"
      ]
     },
     "execution_count": 14,
     "metadata": {},
     "output_type": "execute_result"
    }
   ],
   "source": [
    "df.isnull().sum()"
   ]
  },
  {
   "cell_type": "code",
   "execution_count": 24,
   "id": "8a91542e-9612-42e7-a280-a2d8eabece6a",
   "metadata": {},
   "outputs": [],
   "source": [
    "# Dropping the carpet_are_sqft\n",
    "df.drop('Carpet_area_sqft',axis=1,inplace=True)"
   ]
  },
  {
   "cell_type": "code",
   "execution_count": 26,
   "id": "db32a24d-d05a-498d-a543-2fa4860f507b",
   "metadata": {},
   "outputs": [
    {
     "data": {
      "text/plain": [
       "Transaction\n",
       "Resale          1873\n",
       "New Property     467\n",
       "Other              4\n",
       "Name: count, dtype: int64"
      ]
     },
     "execution_count": 26,
     "metadata": {},
     "output_type": "execute_result"
    }
   ],
   "source": [
    "df.Transaction.value_counts()"
   ]
  },
  {
   "cell_type": "code",
   "execution_count": 28,
   "id": "99e425c4-9980-4d3e-a2cc-f07785318705",
   "metadata": {},
   "outputs": [],
   "source": [
    "df=df[df.Transaction=='Resale']"
   ]
  },
  {
   "cell_type": "code",
   "execution_count": 30,
   "id": "4fd0e970-3b4e-43f9-9e7f-ec4f7a7cbf04",
   "metadata": {},
   "outputs": [
    {
     "data": {
      "text/plain": [
       "City               0\n",
       "SubLocation        0\n",
       "Name               0\n",
       "Price              0\n",
       "Rate_per_sqft     72\n",
       "Bedroom            0\n",
       "Status           102\n",
       "Transaction        0\n",
       "Total_area        72\n",
       "dtype: int64"
      ]
     },
     "execution_count": 30,
     "metadata": {},
     "output_type": "execute_result"
    }
   ],
   "source": [
    "df.isnull().sum()"
   ]
  },
  {
   "cell_type": "code",
   "execution_count": 32,
   "id": "9a761aa1-9544-46f2-85fe-53ab31eb5d56",
   "metadata": {},
   "outputs": [],
   "source": [
    "df.to_csv('Resale.csv')"
   ]
  },
  {
   "cell_type": "code",
   "execution_count": null,
   "id": "2813f155-cfad-46ce-937b-a9542879f42a",
   "metadata": {},
   "outputs": [],
   "source": []
  }
 ],
 "metadata": {
  "kernelspec": {
   "display_name": "Python 3 (ipykernel)",
   "language": "python",
   "name": "python3"
  },
  "language_info": {
   "codemirror_mode": {
    "name": "ipython",
    "version": 3
   },
   "file_extension": ".py",
   "mimetype": "text/x-python",
   "name": "python",
   "nbconvert_exporter": "python",
   "pygments_lexer": "ipython3",
   "version": "3.11.7"
  }
 },
 "nbformat": 4,
 "nbformat_minor": 5
}
